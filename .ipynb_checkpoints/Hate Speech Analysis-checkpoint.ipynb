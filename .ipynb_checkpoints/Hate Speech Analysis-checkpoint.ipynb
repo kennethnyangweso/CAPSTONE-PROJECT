{
 "cells": [
  {
   "cell_type": "markdown",
   "id": "abece5c4",
   "metadata": {},
   "source": [
    "# 2. Data Understanding"
   ]
  },
  {
   "cell_type": "code",
   "execution_count": 1,
   "id": "64ea3ce6",
   "metadata": {},
   "outputs": [],
   "source": [
    "import pandas as pd\n",
    "import numpy as np\n",
    "import re\n",
    "\n",
    "import warnings\n",
    "warnings.filterwarnings(\"ignore\")"
   ]
  },
  {
   "cell_type": "code",
   "execution_count": 2,
   "id": "b15ace15",
   "metadata": {},
   "outputs": [
    {
     "data": {
      "text/html": [
       "<div>\n",
       "<style scoped>\n",
       "    .dataframe tbody tr th:only-of-type {\n",
       "        vertical-align: middle;\n",
       "    }\n",
       "\n",
       "    .dataframe tbody tr th {\n",
       "        vertical-align: top;\n",
       "    }\n",
       "\n",
       "    .dataframe thead th {\n",
       "        text-align: right;\n",
       "    }\n",
       "</style>\n",
       "<table border=\"1\" class=\"dataframe\">\n",
       "  <thead>\n",
       "    <tr style=\"text-align: right;\">\n",
       "      <th></th>\n",
       "      <th>Tweet ID</th>\n",
       "      <th>Likes</th>\n",
       "      <th>Retweets</th>\n",
       "      <th>Total Replies</th>\n",
       "      <th>Texts</th>\n",
       "      <th>Created At</th>\n",
       "    </tr>\n",
       "  </thead>\n",
       "  <tbody>\n",
       "    <tr>\n",
       "      <th>0</th>\n",
       "      <td>1.912286e+18</td>\n",
       "      <td>2.0</td>\n",
       "      <td>0.0</td>\n",
       "      <td>1.0</td>\n",
       "      <td>Rigathi Gachagua ni snitches Ile ya ukweli. La...</td>\n",
       "      <td>2025-04-15 23:23:00+00:00</td>\n",
       "    </tr>\n",
       "    <tr>\n",
       "      <th>1</th>\n",
       "      <td>1.912285e+18</td>\n",
       "      <td>0.0</td>\n",
       "      <td>0.0</td>\n",
       "      <td>0.0</td>\n",
       "      <td>@NoCountryHere it’s different for Gachagua man...</td>\n",
       "      <td>2025-04-15 23:21:43+00:00</td>\n",
       "    </tr>\n",
       "    <tr>\n",
       "      <th>2</th>\n",
       "      <td>1.912278e+18</td>\n",
       "      <td>0.0</td>\n",
       "      <td>0.0</td>\n",
       "      <td>0.0</td>\n",
       "      <td>@gitaus794 @Mithika_Denno @bonifacemwangi Wher...</td>\n",
       "      <td>2025-04-15 22:52:56+00:00</td>\n",
       "    </tr>\n",
       "    <tr>\n",
       "      <th>3</th>\n",
       "      <td>1.912275e+18</td>\n",
       "      <td>0.0</td>\n",
       "      <td>0.0</td>\n",
       "      <td>0.0</td>\n",
       "      <td>@hermexinvesting @MwangiHub The common enemy o...</td>\n",
       "      <td>2025-04-15 22:40:45+00:00</td>\n",
       "    </tr>\n",
       "    <tr>\n",
       "      <th>4</th>\n",
       "      <td>1.912272e+18</td>\n",
       "      <td>0.0</td>\n",
       "      <td>0.0</td>\n",
       "      <td>0.0</td>\n",
       "      <td>SHOCK as Gachagua addresses MILLIONS of Mlolon...</td>\n",
       "      <td>2025-04-15 22:30:19+00:00</td>\n",
       "    </tr>\n",
       "    <tr>\n",
       "      <th>5</th>\n",
       "      <td>1.912270e+18</td>\n",
       "      <td>0.0</td>\n",
       "      <td>0.0</td>\n",
       "      <td>0.0</td>\n",
       "      <td>@Br1anKE @EtalePhilip Gachagua doesn't feed me...</td>\n",
       "      <td>2025-04-15 22:19:35+00:00</td>\n",
       "    </tr>\n",
       "    <tr>\n",
       "      <th>6</th>\n",
       "      <td>1.912270e+18</td>\n",
       "      <td>0.0</td>\n",
       "      <td>0.0</td>\n",
       "      <td>0.0</td>\n",
       "      <td>@RobertAlai @NdindiNyoro Let these assholes se...</td>\n",
       "      <td>2025-04-15 22:19:21+00:00</td>\n",
       "    </tr>\n",
       "    <tr>\n",
       "      <th>7</th>\n",
       "      <td>1.912269e+18</td>\n",
       "      <td>0.0</td>\n",
       "      <td>0.0</td>\n",
       "      <td>0.0</td>\n",
       "      <td>@rigathi Gachagua tiga ubaby mani, kiria utahi...</td>\n",
       "      <td>2025-04-15 22:18:41+00:00</td>\n",
       "    </tr>\n",
       "    <tr>\n",
       "      <th>8</th>\n",
       "      <td>1.912266e+18</td>\n",
       "      <td>0.0</td>\n",
       "      <td>0.0</td>\n",
       "      <td>0.0</td>\n",
       "      <td>@NelsonHavi Imagine their are dimwits who even...</td>\n",
       "      <td>2025-04-15 22:04:29+00:00</td>\n",
       "    </tr>\n",
       "    <tr>\n",
       "      <th>9</th>\n",
       "      <td>1.912264e+18</td>\n",
       "      <td>0.0</td>\n",
       "      <td>0.0</td>\n",
       "      <td>0.0</td>\n",
       "      <td>@rigathi 😂😂Akamba nation thinking Gachagua wil...</td>\n",
       "      <td>2025-04-15 21:56:23+00:00</td>\n",
       "    </tr>\n",
       "  </tbody>\n",
       "</table>\n",
       "</div>"
      ],
      "text/plain": [
       "       Tweet ID  Likes  Retweets  Total Replies  \\\n",
       "0  1.912286e+18    2.0       0.0            1.0   \n",
       "1  1.912285e+18    0.0       0.0            0.0   \n",
       "2  1.912278e+18    0.0       0.0            0.0   \n",
       "3  1.912275e+18    0.0       0.0            0.0   \n",
       "4  1.912272e+18    0.0       0.0            0.0   \n",
       "5  1.912270e+18    0.0       0.0            0.0   \n",
       "6  1.912270e+18    0.0       0.0            0.0   \n",
       "7  1.912269e+18    0.0       0.0            0.0   \n",
       "8  1.912266e+18    0.0       0.0            0.0   \n",
       "9  1.912264e+18    0.0       0.0            0.0   \n",
       "\n",
       "                                               Texts  \\\n",
       "0  Rigathi Gachagua ni snitches Ile ya ukweli. La...   \n",
       "1  @NoCountryHere it’s different for Gachagua man...   \n",
       "2  @gitaus794 @Mithika_Denno @bonifacemwangi Wher...   \n",
       "3  @hermexinvesting @MwangiHub The common enemy o...   \n",
       "4  SHOCK as Gachagua addresses MILLIONS of Mlolon...   \n",
       "5  @Br1anKE @EtalePhilip Gachagua doesn't feed me...   \n",
       "6  @RobertAlai @NdindiNyoro Let these assholes se...   \n",
       "7  @rigathi Gachagua tiga ubaby mani, kiria utahi...   \n",
       "8  @NelsonHavi Imagine their are dimwits who even...   \n",
       "9  @rigathi 😂😂Akamba nation thinking Gachagua wil...   \n",
       "\n",
       "                      Created At  \n",
       "0  2025-04-15 23:23:00+00:00      \n",
       "1  2025-04-15 23:21:43+00:00      \n",
       "2  2025-04-15 22:52:56+00:00      \n",
       "3  2025-04-15 22:40:45+00:00      \n",
       "4  2025-04-15 22:30:19+00:00      \n",
       "5  2025-04-15 22:19:35+00:00      \n",
       "6  2025-04-15 22:19:21+00:00      \n",
       "7  2025-04-15 22:18:41+00:00      \n",
       "8  2025-04-15 22:04:29+00:00      \n",
       "9  2025-04-15 21:56:23+00:00      "
      ]
     },
     "execution_count": 2,
     "metadata": {},
     "output_type": "execute_result"
    }
   ],
   "source": [
    "# Load the dataset\n",
    "df = pd.read_csv(\"Kenyan_politicians_hatespeech.csv\")\n",
    "df.head(10)"
   ]
  },
  {
   "cell_type": "code",
   "execution_count": 3,
   "id": "87e95148",
   "metadata": {},
   "outputs": [
    {
     "name": "stdout",
     "output_type": "stream",
     "text": [
      "           Tweet ID  Likes  Retweets  Total Replies  \\\n",
      "11307  1.567917e+18   12.0       0.0            2.0   \n",
      "11308  1.808858e+18    0.0       0.0            0.0   \n",
      "11309  9.767161e+17    1.0       0.0            0.0   \n",
      "11310  1.911297e+18    2.0       1.0            0.0   \n",
      "11311  1.910260e+18    3.0       1.0            2.0   \n",
      "11312  1.910036e+18    9.0       3.0            1.0   \n",
      "11313  1.729588e+18  190.0      13.0           17.0   \n",
      "11314  1.912614e+18  543.0      52.0           57.0   \n",
      "11315  1.910270e+18  516.0     136.0           17.0   \n",
      "11316  1.567604e+18    0.0       1.0            0.0   \n",
      "\n",
      "                                                   Texts  \\\n",
      "11307  @Aaroncheruiyot @mwafrika_254 @Wetangulam Why ...   \n",
      "11308  @khantiger528 @citizentvkenya I totally agree ...   \n",
      "11309  @trueasembo @MusaliaMudavadi @Wetangulam @KBon...   \n",
      "11310  Pretty obvious that Musalia, Wetangula, Raila ...   \n",
      "11311  National Assembly Speaker Moses Wetangula susp...   \n",
      "11312  Female MPs Fight:\\n \\nEALA MP Falhada Iman ban...   \n",
      "11313  Is this the most important and urgent matter f...   \n",
      "11314  Onto the next ⏭️⏭️⏭️ \\n#ARSRMA \\n#ChampionsLea...   \n",
      "11315  Musalia Mudavadi &amp; Wetangula are busy drin...   \n",
      "11316  @DidmusWaBarasa @AnnTanuia071 @Wetangulam How ...   \n",
      "\n",
      "                      Created At  \n",
      "11307  2022-09-08 19:44:08+00:00  \n",
      "11308  2024-07-04 16:37:54+00:00  \n",
      "11309  2018-03-22 10:04:02+00:00  \n",
      "11310  2025-04-13 08:54:58+00:00  \n",
      "11311  2025-04-10 12:14:27+00:00  \n",
      "11312  2025-04-09 21:22:45+00:00  \n",
      "11313  2023-11-28 22:49:31+00:00  \n",
      "11314  2025-04-17 00:08:45+00:00  \n",
      "11315  2025-04-10 12:52:17+00:00  \n",
      "11316  2022-09-07 23:00:58+00:00  \n"
     ]
    }
   ],
   "source": [
    "df_tail = df.tail(10)\n",
    "print(df_tail)"
   ]
  },
  {
   "cell_type": "code",
   "execution_count": 4,
   "id": "cbb471e3",
   "metadata": {},
   "outputs": [
    {
     "name": "stdout",
     "output_type": "stream",
     "text": [
      "<class 'pandas.core.frame.DataFrame'>\n",
      "RangeIndex: 11317 entries, 0 to 11316\n",
      "Data columns (total 6 columns):\n",
      " #   Column         Non-Null Count  Dtype  \n",
      "---  ------         --------------  -----  \n",
      " 0   Tweet ID       11317 non-null  float64\n",
      " 1   Likes          11317 non-null  float64\n",
      " 2   Retweets       11317 non-null  float64\n",
      " 3   Total Replies  11317 non-null  float64\n",
      " 4   Texts          11317 non-null  object \n",
      " 5   Created At     11317 non-null  object \n",
      "dtypes: float64(4), object(2)\n",
      "memory usage: 530.6+ KB\n",
      "None\n"
     ]
    }
   ],
   "source": [
    "# Show basic info and sample\n",
    "df_info = df.info()\n",
    "print(df_info)"
   ]
  },
  {
   "cell_type": "code",
   "execution_count": 5,
   "id": "6bfbc765",
   "metadata": {},
   "outputs": [
    {
     "name": "stdout",
     "output_type": "stream",
     "text": [
      "🔢 Numeric Summary:\n",
      "                  count          mean           std           min  \\\n",
      "Tweet ID       11317.0  1.827889e+18  1.624154e+17  1.262900e+17   \n",
      "Likes          11317.0  9.191644e+02  1.448601e+04  0.000000e+00   \n",
      "Retweets       11317.0  1.956497e+02  2.283746e+03  0.000000e+00   \n",
      "Total Replies  11317.0  6.696625e+01  1.080506e+03  0.000000e+00   \n",
      "\n",
      "                        25%           50%           75%           max  \n",
      "Tweet ID       1.815727e+18  1.891572e+18  1.912258e+18  1.914318e+18  \n",
      "Likes          1.000000e+00  1.300000e+01  3.020000e+02  1.060202e+06  \n",
      "Retweets       0.000000e+00  4.000000e+00  5.300000e+01  1.504460e+05  \n",
      "Total Replies  0.000000e+00  1.000000e+00  1.900000e+01  8.787900e+04  \n"
     ]
    }
   ],
   "source": [
    "# Numeric summary only\n",
    "numeric_summary = df.describe(include=[float, int]).T\n",
    "print(\"🔢 Numeric Summary:\\n\", numeric_summary)"
   ]
  },
  {
   "cell_type": "code",
   "execution_count": 6,
   "id": "91416b36",
   "metadata": {},
   "outputs": [
    {
     "name": "stdout",
     "output_type": "stream",
     "text": [
      "\n",
      "🔤 Categorical Summary:\n",
      "             count unique                        top freq\n",
      "Texts       11317  11241    @BernardKavuli Matiangi    5\n",
      "Created At  11317  11228  2025-04-03 11:25:57+00:00    3\n"
     ]
    }
   ],
   "source": [
    "# Categorical summary only (object, category, etc.)\n",
    "categorical_summary = df.describe(include=['object']).T\n",
    "print(\"\\n🔤 Categorical Summary:\\n\", categorical_summary)"
   ]
  },
  {
   "cell_type": "code",
   "execution_count": 7,
   "id": "79b7f0e3",
   "metadata": {},
   "outputs": [
    {
     "name": "stdout",
     "output_type": "stream",
     "text": [
      "Index(['Tweet ID', 'Likes', 'Retweets', 'Total Replies', 'Texts',\n",
      "       'Created At'],\n",
      "      dtype='object')\n"
     ]
    }
   ],
   "source": [
    "# Checking the columns\n",
    "df_columns = df.columns\n",
    "print(df_columns)"
   ]
  },
  {
   "cell_type": "code",
   "execution_count": 8,
   "id": "c354b9ed",
   "metadata": {},
   "outputs": [
    {
     "name": "stdout",
     "output_type": "stream",
     "text": [
      "(11317, 6)\n"
     ]
    }
   ],
   "source": [
    "# Checking the number of rows and column\n",
    "df_shape = df.shape\n",
    "print(df_shape)"
   ]
  },
  {
   "cell_type": "code",
   "execution_count": 9,
   "id": "ec225c01",
   "metadata": {},
   "outputs": [
    {
     "data": {
      "text/plain": [
       "0"
      ]
     },
     "execution_count": 9,
     "metadata": {},
     "output_type": "execute_result"
    }
   ],
   "source": [
    "# Check for Duplicates\n",
    "df.duplicated().sum()  # Count duplicates"
   ]
  },
  {
   "cell_type": "code",
   "execution_count": 10,
   "id": "0a9f8b0c",
   "metadata": {},
   "outputs": [
    {
     "data": {
      "text/plain": [
       "Tweet ID         0\n",
       "Likes            0\n",
       "Retweets         0\n",
       "Total Replies    0\n",
       "Texts            0\n",
       "Created At       0\n",
       "dtype: int64"
      ]
     },
     "execution_count": 10,
     "metadata": {},
     "output_type": "execute_result"
    }
   ],
   "source": [
    "# Checking missing values per column\n",
    "df.isnull().sum()  "
   ]
  },
  {
   "cell_type": "markdown",
   "id": "88c60992",
   "metadata": {},
   "source": [
    "# 3. Data Cleaning"
   ]
  },
  {
   "cell_type": "code",
   "execution_count": 11,
   "id": "86769771",
   "metadata": {},
   "outputs": [],
   "source": [
    "# Dropping unwanted column\n",
    "df = df.drop(columns=['Tweet ID'])"
   ]
  },
  {
   "cell_type": "code",
   "execution_count": 12,
   "id": "1b30e606",
   "metadata": {},
   "outputs": [
    {
     "name": "stdout",
     "output_type": "stream",
     "text": [
      "Index(['Likes', 'Retweets', 'Total Replies', 'Texts', 'Created At'], dtype='object')\n"
     ]
    }
   ],
   "source": [
    "df_columns = df.columns\n",
    "print(df_columns)"
   ]
  },
  {
   "cell_type": "code",
   "execution_count": 13,
   "id": "6f55acc7",
   "metadata": {},
   "outputs": [],
   "source": [
    "# Dropping duplicates\n",
    "df.drop_duplicates(inplace=True)"
   ]
  },
  {
   "cell_type": "code",
   "execution_count": 14,
   "id": "5a0e3dab",
   "metadata": {},
   "outputs": [],
   "source": [
    "# Convert to numeric columns\n",
    "df['Likes'] = pd.to_numeric(df['Likes'], errors='coerce')\n",
    "df['Retweets'] = pd.to_numeric(df['Retweets'], errors='coerce')\n",
    "df['Total Replies'] = pd.to_numeric(df['Total Replies'], errors='coerce')\n",
    "\n",
    "# Convert date column\n",
    "df['Created At'] = pd.to_datetime(df['Created At'], errors='coerce')"
   ]
  },
  {
   "cell_type": "code",
   "execution_count": 15,
   "id": "c3a1bc55",
   "metadata": {},
   "outputs": [],
   "source": [
    "# Step 1: Remove duplicates\n",
    "df_cleaned = df.drop_duplicates(subset='Texts').copy()"
   ]
  },
  {
   "cell_type": "code",
   "execution_count": 16,
   "id": "2e9a021e",
   "metadata": {
    "code_folding": []
   },
   "outputs": [],
   "source": [
    "# Step 2: Clean text function\n",
    "def clean_text(text):\n",
    "    text = text.lower()\n",
    "    text = re.sub(r'http\\S+|www.\\S+', '', text)  # remove URLs\n",
    "    text = re.sub(r'@\\w+', '', text)  # remove mentions\n",
    "    text = re.sub(r'#\\w+', '', text)  # remove hashtags\n",
    "    text = re.sub(r'[^a-zA-Z\\s]', '', text)  # remove punctuation and numbers\n",
    "    text = re.sub(r'\\s+', ' ', text).strip()  # normalize whitespace\n",
    "    return text\n",
    "\n",
    "df_cleaned['Cleaned_Text'] = df_cleaned['Texts'].apply(clean_text)"
   ]
  },
  {
   "cell_type": "code",
   "execution_count": 17,
   "id": "bf31fab2",
   "metadata": {},
   "outputs": [],
   "source": [
    "# Insert the new column after 'cleaned_text'\n",
    "col_index = df_cleaned.columns.get_loc('Cleaned_Text') + 1  # position after 'cleaned_text'\n",
    "df_cleaned.insert(loc=col_index, column='Label', value= '')  # or value='pending' or ''"
   ]
  },
  {
   "cell_type": "code",
   "execution_count": 18,
   "id": "e80e5d10",
   "metadata": {},
   "outputs": [],
   "source": [
    "# Convert to categorical columns\n",
    "df_cleaned['Cleaned_Text'] = df_cleaned['Cleaned_Text'].astype('category')\n",
    "df_cleaned['Label'] = df_cleaned['Label'].astype('category')"
   ]
  },
  {
   "cell_type": "code",
   "execution_count": 19,
   "id": "7ddfa121",
   "metadata": {},
   "outputs": [],
   "source": [
    "# Cleaning column names\n",
    "df_cleaned.columns = df_cleaned.columns.str.strip().str.lower().str.replace(' ', '_')"
   ]
  },
  {
   "cell_type": "code",
   "execution_count": 20,
   "id": "63dce03a",
   "metadata": {},
   "outputs": [],
   "source": [
    "# Sort by raw tweet text\n",
    "df_cleaned = df_cleaned.sort_values(by='cleaned_text')"
   ]
  },
  {
   "cell_type": "code",
   "execution_count": 21,
   "id": "938ddd60",
   "metadata": {},
   "outputs": [
    {
     "data": {
      "text/plain": [
       "Index(['likes', 'retweets', 'total_replies', 'created_at', 'cleaned_text',\n",
       "       'label'],\n",
       "      dtype='object')"
      ]
     },
     "execution_count": 21,
     "metadata": {},
     "output_type": "execute_result"
    }
   ],
   "source": [
    "df_cleaned = df_cleaned.drop(columns=['texts'])\n",
    "df_cleaned.columns"
   ]
  },
  {
   "cell_type": "code",
   "execution_count": 22,
   "id": "a81c02bf",
   "metadata": {},
   "outputs": [],
   "source": [
    "df_cleaned.to_csv('kenyan_politics_cleaned_text.csv', index=False)"
   ]
  },
  {
   "cell_type": "code",
   "execution_count": 24,
   "id": "87b65a7f",
   "metadata": {
    "code_folding": []
   },
   "outputs": [
    {
     "data": {
      "text/plain": [
       "'\\n# Select rows 9004 to 11254 (index 9003 to 11253)\\nsubset_df = df_cleaned.iloc[9003:11254]\\n\\n# Step 3: Save to a new CSV\\nsubset_df.to_csv(\"kenya_tweets_subset_9004_11254.csv\", index=False)\\n\\nprint(\"Subset saved as kenya_tweets_subset_9004_11254.csv\")\\n'"
      ]
     },
     "execution_count": 24,
     "metadata": {},
     "output_type": "execute_result"
    }
   ],
   "source": [
    "\"\"\"\n",
    "# Select rows 9004 to 11254 (index 9003 to 11253)\n",
    "subset_df = df_cleaned.iloc[9003:11254]\n",
    "\n",
    "# Step 3: Save to a new CSV\n",
    "subset_df.to_csv(\"kenya_tweets_subset_9004_11254.csv\", index=False)\n",
    "\n",
    "print(\"Subset saved as kenya_tweets_subset_9004_11254.csv\")\n",
    "\"\"\""
   ]
  },
  {
   "cell_type": "code",
   "execution_count": null,
   "id": "d4ff94bb",
   "metadata": {},
   "outputs": [],
   "source": []
  }
 ],
 "metadata": {
  "kernelspec": {
   "display_name": "Python 3 (ipykernel)",
   "language": "python",
   "name": "python3"
  },
  "language_info": {
   "codemirror_mode": {
    "name": "ipython",
    "version": 3
   },
   "file_extension": ".py",
   "mimetype": "text/x-python",
   "name": "python",
   "nbconvert_exporter": "python",
   "pygments_lexer": "ipython3",
   "version": "3.11.9"
  },
  "nbTranslate": {
   "displayLangs": [
    "*"
   ],
   "hotkey": "alt-t",
   "langInMainMenu": true,
   "sourceLang": "en",
   "targetLang": "fr",
   "useGoogleTranslate": true
  },
  "varInspector": {
   "cols": {
    "lenName": 16,
    "lenType": 16,
    "lenVar": 40
   },
   "kernels_config": {
    "python": {
     "delete_cmd_postfix": "",
     "delete_cmd_prefix": "del ",
     "library": "var_list.py",
     "varRefreshCmd": "print(var_dic_list())"
    },
    "r": {
     "delete_cmd_postfix": ") ",
     "delete_cmd_prefix": "rm(",
     "library": "var_list.r",
     "varRefreshCmd": "cat(var_dic_list()) "
    }
   },
   "types_to_exclude": [
    "module",
    "function",
    "builtin_function_or_method",
    "instance",
    "_Feature"
   ],
   "window_display": false
  }
 },
 "nbformat": 4,
 "nbformat_minor": 5
}
